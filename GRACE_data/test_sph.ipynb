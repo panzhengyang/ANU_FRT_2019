{
 "cells": [
  {
   "cell_type": "code",
   "execution_count": 2,
   "metadata": {},
   "outputs": [],
   "source": [
    "from scipy.special import lpmv\n",
    "from scipy.special import factorial as fact\n",
    "from numpy import sqrt\n",
    "\n",
    "%matplotlib notebook\n",
    "import matplotlib.pyplot as plt\n",
    "import numpy as np\n"
   ]
  },
  {
   "cell_type": "code",
   "execution_count": 3,
   "metadata": {},
   "outputs": [],
   "source": [
    "l = 3     # degree\n",
    "m = 1     # order\n",
    "\n",
    "c = -2.584591912965e-12\n",
    "s = 8.626768890343e-12\n",
    "lat = 67\n",
    "lon = 36 \n",
    "\n",
    "co_lat = 90 - lat\n"
   ]
  },
  {
   "cell_type": "code",
   "execution_count": 4,
   "metadata": {},
   "outputs": [],
   "source": [
    "lat_r = lat * np.pi/180.0\n",
    "lon_r = lon * np.pi/180.0\n",
    "co_lat_r = co_lat * np.pi/180.0"
   ]
  },
  {
   "cell_type": "code",
   "execution_count": 5,
   "metadata": {},
   "outputs": [
    {
     "name": "stdout",
     "output_type": "stream",
     "text": [
      "0.9205048534524404 0.6283185307179586\n"
     ]
    }
   ],
   "source": [
    "print( np.cos(co_lat_r) , lon_r )"
   ]
  },
  {
   "cell_type": "markdown",
   "metadata": {},
   "source": [
    "# refer: \n",
    "http://mitgcm.org/~mlosch/geoidcookbook/node11.html\n",
    "\n",
    "https://igortitara.files.wordpress.com/2010/04/handbook-of-math-for-engineers-and-scientists1.pdf"
   ]
  },
  {
   "cell_type": "code",
   "execution_count": 6,
   "metadata": {},
   "outputs": [],
   "source": [
    "def nalp (l , m , x):\n",
    "#    degree,order,input\n",
    "    return lpmv(m , l , x) * sqrt((2-float(m==0))*(2.0*l+1)*fact(l-m)/fact(l+m))"
   ]
  },
  {
   "cell_type": "code",
   "execution_count": 7,
   "metadata": {},
   "outputs": [
    {
     "name": "stdout",
     "output_type": "stream",
     "text": [
      "-2.0489806532951365\n"
     ]
    }
   ],
   "source": [
    "print(nalp(m,l,np.cos(co_lat_r)))"
   ]
  },
  {
   "cell_type": "code",
   "execution_count": 8,
   "metadata": {},
   "outputs": [],
   "source": [
    "# for l = 3 degree\n",
    "h3 = -0.1050767745e+01\n",
    "k3 = -0.1960294041e+00\n",
    "R = 6378100.0\n",
    "Fn = R*h3/(1+k3)"
   ]
  },
  {
   "cell_type": "code",
   "execution_count": 9,
   "metadata": {},
   "outputs": [
    {
     "name": "stdout",
     "output_type": "stream",
     "text": [
      "-8336003.566003675\n"
     ]
    }
   ],
   "source": [
    "print(Fn)"
   ]
  },
  {
   "cell_type": "code",
   "execution_count": 10,
   "metadata": {},
   "outputs": [],
   "source": [
    "du = Fn*nalp(m,l,np.cos(co_lat_r))*(c*np.cos(m*lon_r)+s*np.sin(m*lon_r))"
   ]
  },
  {
   "cell_type": "code",
   "execution_count": 11,
   "metadata": {},
   "outputs": [
    {
     "name": "stdout",
     "output_type": "stream",
     "text": [
      "5.0894349215107594e-05\n"
     ]
    }
   ],
   "source": [
    "print(du)"
   ]
  },
  {
   "cell_type": "code",
   "execution_count": 12,
   "metadata": {},
   "outputs": [],
   "source": [
    "from scipy.special import lpmn"
   ]
  },
  {
   "cell_type": "code",
   "execution_count": 13,
   "metadata": {},
   "outputs": [
    {
     "name": "stdout",
     "output_type": "stream",
     "text": [
      "4.218749999999999\n"
     ]
    }
   ],
   "source": [
    "print(lpmv(2,4,0.5))"
   ]
  },
  {
   "cell_type": "code",
   "execution_count": 17,
   "metadata": {},
   "outputs": [],
   "source": [
    "a = np.array([[1,0.2,.3],[.4,.5,.6]])\n"
   ]
  },
  {
   "cell_type": "code",
   "execution_count": 18,
   "metadata": {},
   "outputs": [
    {
     "data": {
      "text/plain": [
       "array([[ 0.        ,  1.26996063,  0.85005698],\n",
       "       [ 0.29698485, -0.35078038, -1.03691851]])"
      ]
     },
     "execution_count": 18,
     "metadata": {},
     "output_type": "execute_result"
    }
   ],
   "source": [
    "nalp(m,l,a)"
   ]
  },
  {
   "cell_type": "code",
   "execution_count": 19,
   "metadata": {},
   "outputs": [
    {
     "data": {
      "text/plain": [
       "1.2699606293110037"
      ]
     },
     "execution_count": 19,
     "metadata": {},
     "output_type": "execute_result"
    }
   ],
   "source": [
    "nalp(m,l,0.2)"
   ]
  },
  {
   "cell_type": "code",
   "execution_count": 21,
   "metadata": {},
   "outputs": [
    {
     "data": {
      "text/plain": [
       "array([[0.54030231, 0.98006658, 0.95533649],\n",
       "       [0.92106099, 0.87758256, 0.82533561]])"
      ]
     },
     "execution_count": 21,
     "metadata": {},
     "output_type": "execute_result"
    }
   ],
   "source": []
  },
  {
   "cell_type": "code",
   "execution_count": null,
   "metadata": {},
   "outputs": [],
   "source": []
  }
 ],
 "metadata": {
  "kernelspec": {
   "display_name": "Python 3",
   "language": "python",
   "name": "python3"
  },
  "language_info": {
   "codemirror_mode": {
    "name": "ipython",
    "version": 3
   },
   "file_extension": ".py",
   "mimetype": "text/x-python",
   "name": "python",
   "nbconvert_exporter": "python",
   "pygments_lexer": "ipython3",
   "version": "3.7.3"
  }
 },
 "nbformat": 4,
 "nbformat_minor": 2
}
