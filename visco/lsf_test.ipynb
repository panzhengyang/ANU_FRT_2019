{
 "cells": [
  {
   "cell_type": "code",
   "execution_count": 26,
   "metadata": {},
   "outputs": [],
   "source": [
    "import numpy as np\n",
    "from pandas import read_csv\n",
    "from numpy import cos , sin , sqrt\n",
    "from scipy.special import lpmv\n",
    "from scipy.special import factorial as fact"
   ]
  },
  {
   "cell_type": "code",
   "execution_count": 27,
   "metadata": {},
   "outputs": [],
   "source": [
    "ifn = 'temp_python_input.txt'"
   ]
  },
  {
   "cell_type": "code",
   "execution_count": 28,
   "metadata": {},
   "outputs": [],
   "source": [
    "data_pd_dataframe = read_csv(ifn,\n",
    "        skiprows = 0,\n",
    "        header = None,\n",
    "        sep='\\s+')\n",
    "matrix_row_file_name = np.asarray(data_pd_dataframe.iloc[:,0])\n",
    "no_points = np.asarray(data_pd_dataframe.iloc[:,2],dtype=float)\n",
    "slope = np.asarray(data_pd_dataframe.iloc[:,1],dtype=float)"
   ]
  },
  {
   "cell_type": "code",
   "execution_count": 29,
   "metadata": {},
   "outputs": [],
   "source": [
    "max_deg = 4"
   ]
  },
  {
   "cell_type": "code",
   "execution_count": 30,
   "metadata": {},
   "outputs": [],
   "source": [
    "tmp_data = np.asarray( read_csv( matrix_row_file_name[0],\n",
    "    header = None,\n",
    "    sep = '\\s+',\n",
    "    dtype = float ))\n",
    "matrix = tmp_data[:,2]\n",
    "n = tmp_data[:,0]\n",
    "m = tmp_data[:,1]\n",
    "\n",
    "size = np.size(matrix_row_file_name)\n",
    "for i in np.linspace(1, size -1, size-1, dtype = int):\n",
    "    row = np.asarray( read_csv( matrix_row_file_name[i],\n",
    "        header = None,\n",
    "        sep = '\\s+',\n",
    "        dtype = float ))[:,2]\n",
    "    matrix = np.column_stack((matrix,row))\n"
   ]
  },
  {
   "cell_type": "code",
   "execution_count": 31,
   "metadata": {},
   "outputs": [],
   "source": [
    "Edot = matrix[0,:]"
   ]
  },
  {
   "cell_type": "code",
   "execution_count": 32,
   "metadata": {},
   "outputs": [],
   "source": [
    "max_index = int( (max_deg+max_deg*(max_deg+1)/2)*2-4 )        # which includes sin terms with order m = 0\n",
    "n = n[1:max_index+1]\n",
    "m = m[1:max_index+1]\n",
    "matrix = matrix[1:max_index+1,:]\n",
    "tmp_index = np.linspace(0,np.size(m)-1,np.size(m),dtype=int)\n",
    "tmp_flag = (tmp_index*0 + 1).astype(bool)       # default True\n",
    "tmp_flag[  tmp_index[m==0][1::2]  ] = False\n",
    "n = n[tmp_flag]\n",
    "m = m[tmp_flag]\n",
    "matrix = matrix[tmp_flag,:]"
   ]
  },
  {
   "cell_type": "code",
   "execution_count": 33,
   "metadata": {},
   "outputs": [],
   "source": [
    "A = np.asmatrix( matrix ).T\n",
    "b = np.asmatrix( slope - Edot ).T"
   ]
  },
  {
   "cell_type": "code",
   "execution_count": 34,
   "metadata": {},
   "outputs": [
    {
     "data": {
      "text/plain": [
       "matrix([[ 4.28176441e-03],\n",
       "        [ 1.45499654e-04],\n",
       "        [ 1.42270185e-02],\n",
       "        [ 5.58347371e-05],\n",
       "        [-1.90189661e-04],\n",
       "        [ 6.06248927e-04],\n",
       "        [ 1.02424016e-03],\n",
       "        [ 1.17832345e-02],\n",
       "        [ 8.24594792e-04],\n",
       "        [ 1.74645723e-03],\n",
       "        [ 1.99504274e-03],\n",
       "        [ 4.13300545e-03],\n",
       "        [-7.52820423e-04],\n",
       "        [ 1.05060615e-02],\n",
       "        [ 3.19016297e-03],\n",
       "        [-4.79512687e-04],\n",
       "        [ 8.78035083e-04],\n",
       "        [ 6.37159132e-04],\n",
       "        [ 2.85576787e-03],\n",
       "        [ 4.15660182e-04],\n",
       "        [-5.47354428e-04],\n",
       "        [ 7.60248501e-03],\n",
       "        [ 2.03504736e-03],\n",
       "        [ 1.69954166e-03],\n",
       "        [-1.58331571e-03],\n",
       "        [ 8.65436362e-03],\n",
       "        [ 6.90708742e-04],\n",
       "        [-1.49838268e-03],\n",
       "        [ 1.44658346e-03],\n",
       "        [ 3.61411341e-03],\n",
       "        [ 1.52483890e-03],\n",
       "        [ 1.83824527e-03],\n",
       "        [ 1.00574981e-03],\n",
       "        [ 6.80918282e-03],\n",
       "        [ 8.59412097e-03],\n",
       "        [ 2.99656431e-03],\n",
       "        [ 3.54853038e-03],\n",
       "        [ 3.44370978e-03],\n",
       "        [ 6.63724468e-03],\n",
       "        [-1.40149532e-03],\n",
       "        [-5.88630319e-03],\n",
       "        [-3.52609512e-03],\n",
       "        [-1.96592007e-04],\n",
       "        [-1.77786852e-04],\n",
       "        [ 1.79419849e-04],\n",
       "        [ 3.91343965e-04],\n",
       "        [-2.08406199e-03],\n",
       "        [ 8.31687879e-04],\n",
       "        [ 1.02482974e-04],\n",
       "        [ 1.13733598e-02],\n",
       "        [ 2.15072963e-03],\n",
       "        [ 5.67321755e-03],\n",
       "        [ 1.11646984e-03],\n",
       "        [ 2.87680518e-03],\n",
       "        [ 2.88102639e-03],\n",
       "        [ 1.44900863e-03],\n",
       "        [ 3.04453253e-03],\n",
       "        [ 3.31161952e-03],\n",
       "        [ 9.68378871e-03],\n",
       "        [ 3.50798010e-03],\n",
       "        [ 6.80709159e-04],\n",
       "        [ 1.92507541e-03],\n",
       "        [ 2.63449345e-03],\n",
       "        [-2.24596039e-04],\n",
       "        [ 9.26913321e-05],\n",
       "        [ 7.29841752e-03]])"
      ]
     },
     "execution_count": 34,
     "metadata": {},
     "output_type": "execute_result"
    }
   ],
   "source": [
    "b"
   ]
  },
  {
   "cell_type": "code",
   "execution_count": 35,
   "metadata": {},
   "outputs": [],
   "source": [
    "x = (A.T * A).I * A.T * b"
   ]
  },
  {
   "cell_type": "code",
   "execution_count": 36,
   "metadata": {},
   "outputs": [
    {
     "data": {
      "text/plain": [
       "matrix([[ 5.29980834e-11],\n",
       "        [ 5.34740627e-11],\n",
       "        [-9.99705775e-11],\n",
       "        [ 5.34837484e-11],\n",
       "        [-1.45875700e-09],\n",
       "        [ 2.85478171e-11],\n",
       "        [ 3.80002376e-11],\n",
       "        [-1.53246439e-11],\n",
       "        [-8.42071436e-11],\n",
       "        [ 8.10641884e-11],\n",
       "        [-1.25379588e-10],\n",
       "        [-4.18155565e-10],\n",
       "        [ 6.54280231e-12],\n",
       "        [-1.74597685e-11],\n",
       "        [ 3.12472704e-11],\n",
       "        [-6.75919367e-12],\n",
       "        [ 2.27389258e-10],\n",
       "        [ 3.02442516e-11],\n",
       "        [ 1.64319183e-10],\n",
       "        [ 2.53738732e-11],\n",
       "        [ 1.04516425e-10]])"
      ]
     },
     "execution_count": 36,
     "metadata": {},
     "output_type": "execute_result"
    }
   ],
   "source": [
    "x"
   ]
  },
  {
   "cell_type": "code",
   "execution_count": 37,
   "metadata": {},
   "outputs": [],
   "source": [
    "estimates = np.asarray(x)\n",
    "tmp_index = np.linspace(0,np.size(m)-1,np.size(m),dtype=int)\n",
    "tmp_flag = (tmp_index*0).astype(bool)       # default False\n",
    "tmp_flag[ m == 0 ] = True\n",
    "insert_index = tmp_index[tmp_flag] + 1\n",
    "n = np.insert(n,insert_index,n[tmp_flag])\n",
    "m = np.insert(m,insert_index,m[tmp_flag])\n",
    "estimates = np.insert(estimates,insert_index,0)"
   ]
  },
  {
   "cell_type": "code",
   "execution_count": 38,
   "metadata": {},
   "outputs": [],
   "source": [
    "coeff1 = np.column_stack((n[0::2],m[0::2],estimates[0::2],estimates[1::2]))"
   ]
  },
  {
   "cell_type": "code",
   "execution_count": 39,
   "metadata": {},
   "outputs": [],
   "source": [
    "station_list_data = np.genfromtxt('list.txt')"
   ]
  },
  {
   "cell_type": "code",
   "execution_count": 40,
   "metadata": {},
   "outputs": [],
   "source": [
    "lat = station_list_data[:,1]\n",
    "lon = station_list_data[:,2]"
   ]
  },
  {
   "cell_type": "code",
   "execution_count": 41,
   "metadata": {},
   "outputs": [],
   "source": [
    "colat = ( 90 - lat )*np.pi/180.0\n",
    "lon = ( lon - 360.0*(lon > 180.0).astype(float) )*np.pi/180.0"
   ]
  },
  {
   "cell_type": "code",
   "execution_count": 42,
   "metadata": {},
   "outputs": [],
   "source": [
    "load_love_file_name = 'Load_Love2_CM.dat'\n",
    "load_love_pd_dataframe =  read_csv(load_love_file_name, header = None, skiprows = 13, sep = '\\s+',\n",
    "        dtype = str)\n",
    "load_love_pd_dataframe[1] = load_love_pd_dataframe[1].str.replace('D','E')\n",
    "load_love_pd_dataframe[2] = load_love_pd_dataframe[2].str.replace('D','E')\n",
    "load_love_pd_dataframe[3] = load_love_pd_dataframe[3].str.replace('D','E')\n",
    "load_love_data = np.asarray(load_love_pd_dataframe,\n",
    "        dtype = float)\n",
    "h = load_love_data[:,1]\n",
    "k = load_love_data[:,3]\n",
    "    "
   ]
  },
  {
   "cell_type": "code",
   "execution_count": 43,
   "metadata": {},
   "outputs": [
    {
     "name": "stderr",
     "output_type": "stream",
     "text": [
      "/usr/local/lib/python3.7/site-packages/ipykernel_launcher.py:3: RuntimeWarning: divide by zero encountered in true_divide\n",
      "  This is separate from the ipykernel package so we can avoid doing imports until\n",
      "/usr/local/lib/python3.7/site-packages/ipykernel_launcher.py:3: RuntimeWarning: invalid value encountered in true_divide\n",
      "  This is separate from the ipykernel package so we can avoid doing imports until\n"
     ]
    }
   ],
   "source": [
    "radius_of_earth = 6378100.0     # in meters m\n",
    "Fv = radius_of_earth*(1.1677 * load_love_data[:,0]  - 0.5233)     # Fv values depends on the degree, first column of load_love_data is degree\n",
    "Fe =  radius_of_earth * h/(1+k) # This has inf and nan\n",
    "Fe[0] = 0   # in CM frame degree 0 and 1 cannot be calculated\n",
    "Fe[1] = 0"
   ]
  },
  {
   "cell_type": "code",
   "execution_count": 44,
   "metadata": {},
   "outputs": [],
   "source": [
    "def nalf(n,m,x):\n",
    "    # order degree input\n",
    "    return lpmv(m,n,x) * (-1)**m * sqrt( (2-float(m==0)) * (2.0*n + 1) * fact(n-m)/fact(n+m) )"
   ]
  },
  {
   "cell_type": "code",
   "execution_count": 45,
   "metadata": {},
   "outputs": [],
   "source": [
    "n = coeff1[:,0].astype(int)\n",
    "m = coeff1[:,1].astype(int)\n",
    "C = coeff1[:,2].astype(float)\n",
    "S = coeff1[:,3].astype(float)"
   ]
  },
  {
   "cell_type": "code",
   "execution_count": 56,
   "metadata": {},
   "outputs": [],
   "source": [
    "elastic1 = np.zeros(len(lat))\n",
    "for j in range(len(lat)):\n",
    "    for i in range( np.size(n)):\n",
    "        elastic1[j] += nalf( n[i] , m[i] , cos(colat[j]) ) * ( Fv[n[i]] - Fe[n[i]] ) * ( C[i]*cos(m[i]*lon[j]) + S[i]*sin(m[i]*lon[j]) )"
   ]
  },
  {
   "cell_type": "code",
   "execution_count": 57,
   "metadata": {},
   "outputs": [
    {
     "data": {
      "text/plain": [
       "array([ 5.09037670e-03,  2.49488772e-03,  6.92185112e-03, -1.01310073e-03,\n",
       "        1.08102758e-03,  5.30160859e-04,  5.53180571e-05,  7.42015820e-03,\n",
       "        1.66958478e-03,  6.63141157e-03,  2.69224727e-03,  5.94221140e-03,\n",
       "        6.51740864e-04,  1.92633561e-03,  6.02823499e-03,  1.06639934e-03,\n",
       "        1.06639907e-03,  1.06639901e-03,  9.31909783e-04,  9.31564851e-04,\n",
       "        3.23259959e-03,  6.09682671e-03, -1.07642131e-03,  2.00347973e-03,\n",
       "       -1.93729677e-03,  4.48685715e-03,  8.97815875e-04, -5.67244483e-04,\n",
       "        3.22565869e-03,  4.94056395e-03,  1.44486522e-03,  3.96076979e-03,\n",
       "        9.41263518e-04,  5.74502214e-03,  5.74501400e-03,  4.79772112e-03,\n",
       "        4.79769815e-03,  3.03862807e-03,  2.33021483e-03, -6.34668851e-04,\n",
       "       -4.29405718e-03, -4.29502067e-03,  1.12102501e-03,  7.26658659e-04,\n",
       "        1.05762449e-03,  3.24433835e-03,  1.62669438e-03,  3.65303009e-03,\n",
       "        8.01809225e-04,  8.94466238e-03,  2.86655132e-03,  3.22447450e-03,\n",
       "        4.01822697e-05,  4.84691073e-03,  4.84691079e-03,  5.97437111e-04,\n",
       "        6.04863349e-03,  6.04852678e-03,  5.46753220e-03,  3.96174244e-03,\n",
       "        2.78109625e-03, -2.14127088e-04,  4.07270656e-04,  1.21844642e-03,\n",
       "       -1.84422452e-03,  5.79157931e-03])"
      ]
     },
     "execution_count": 57,
     "metadata": {},
     "output_type": "execute_result"
    }
   ],
   "source": [
    "elastic1\n"
   ]
  },
  {
   "cell_type": "code",
   "execution_count": 58,
   "metadata": {},
   "outputs": [],
   "source": [
    "b1 = np.asmatrix(np.asarray(b)[:,0] - elastic1).T\n",
    "#b1 = np.asmatrix( elastic1 - Edot ).T\n"
   ]
  },
  {
   "cell_type": "code",
   "execution_count": 59,
   "metadata": {},
   "outputs": [
    {
     "data": {
      "text/plain": [
       "(matrix([[-0.00127122]]), matrix([[-0.00019019]]), 0.0010810275832615899)"
      ]
     },
     "execution_count": 59,
     "metadata": {},
     "output_type": "execute_result"
    }
   ],
   "source": [
    "b1[4] , b[4] , elastic1[4]"
   ]
  },
  {
   "cell_type": "code",
   "execution_count": 60,
   "metadata": {},
   "outputs": [
    {
     "data": {
      "text/plain": [
       "matrix([[-4.30957868e-25],\n",
       "        [ 1.08890573e-23],\n",
       "        [ 4.30553971e-24],\n",
       "        [-2.03434732e-23],\n",
       "        [-7.96419834e-23],\n",
       "        [-4.76598204e-25],\n",
       "        [-9.79449700e-26],\n",
       "        [-1.00974196e-24],\n",
       "        [ 2.30867401e-24],\n",
       "        [ 7.10858339e-25],\n",
       "        [ 2.29801114e-23],\n",
       "        [ 6.69499308e-24],\n",
       "        [ 8.99882034e-25],\n",
       "        [-3.58821902e-24],\n",
       "        [-8.56261181e-25],\n",
       "        [ 1.75129645e-24],\n",
       "        [ 1.31928845e-23],\n",
       "        [-3.87094677e-24],\n",
       "        [-3.10192730e-25],\n",
       "        [-1.40943822e-23],\n",
       "        [-1.20748982e-23]])"
      ]
     },
     "execution_count": 60,
     "metadata": {},
     "output_type": "execute_result"
    }
   ],
   "source": [
    "(A.T * A).I * A.T * b1"
   ]
  },
  {
   "cell_type": "code",
   "execution_count": 55,
   "metadata": {},
   "outputs": [
    {
     "data": {
      "text/plain": [
       "matrix([[ 5.29980834e-11],\n",
       "        [ 5.34740627e-11],\n",
       "        [-9.99705775e-11],\n",
       "        [ 5.34837484e-11],\n",
       "        [-1.45875700e-09],\n",
       "        [ 2.85478171e-11],\n",
       "        [ 3.80002376e-11],\n",
       "        [-1.53246439e-11],\n",
       "        [-8.42071436e-11],\n",
       "        [ 8.10641884e-11],\n",
       "        [-1.25379588e-10],\n",
       "        [-4.18155565e-10],\n",
       "        [ 6.54280231e-12],\n",
       "        [-1.74597685e-11],\n",
       "        [ 3.12472704e-11],\n",
       "        [-6.75919367e-12],\n",
       "        [ 2.27389258e-10],\n",
       "        [ 3.02442516e-11],\n",
       "        [ 1.64319183e-10],\n",
       "        [ 2.53738732e-11],\n",
       "        [ 1.04516425e-10]])"
      ]
     },
     "execution_count": 55,
     "metadata": {},
     "output_type": "execute_result"
    }
   ],
   "source": [
    "x\n"
   ]
  },
  {
   "cell_type": "code",
   "execution_count": null,
   "metadata": {},
   "outputs": [],
   "source": []
  }
 ],
 "metadata": {
  "kernelspec": {
   "display_name": "Python 3",
   "language": "python",
   "name": "python3"
  },
  "language_info": {
   "codemirror_mode": {
    "name": "ipython",
    "version": 3
   },
   "file_extension": ".py",
   "mimetype": "text/x-python",
   "name": "python",
   "nbconvert_exporter": "python",
   "pygments_lexer": "ipython3",
   "version": "3.7.3"
  }
 },
 "nbformat": 4,
 "nbformat_minor": 2
}
