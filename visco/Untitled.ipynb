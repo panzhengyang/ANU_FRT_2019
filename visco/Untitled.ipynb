{
 "cells": [
  {
   "cell_type": "code",
   "execution_count": 24,
   "metadata": {},
   "outputs": [],
   "source": [
    "from scipy.special import lpmv\n",
    "from scipy.special import factorial as fact\n",
    "from numpy import sqrt\n",
    "from numpy import cos\n",
    "from numpy import sin \n",
    "import numpy as np \n",
    "from pandas import read_csv"
   ]
  },
  {
   "cell_type": "code",
   "execution_count": 25,
   "metadata": {},
   "outputs": [],
   "source": [
    "coeff_file_name = './coeff_rate/mit_coeff_rates_ALRT.txt'\n",
    "lat = float(82.4942939716) \n",
    "lon = float(-62.3404664131) \n",
    "max_deg = 80\n",
    "colat = ( 90 - lat )*np.pi/180.0 \n",
    "lon = ( lon - 360.0*float(lon > 180.0) )*np.pi/180.0 "
   ]
  },
  {
   "cell_type": "code",
   "execution_count": 26,
   "metadata": {},
   "outputs": [],
   "source": [
    "load_love_file_name = 'Load_Love2_CM.dat'\n",
    "load_love_pd_dataframe =  read_csv(load_love_file_name, header = None, skiprows = 13, sep = '\\s+',\n",
    "        dtype = str)\n",
    "load_love_pd_dataframe[1] = load_love_pd_dataframe[1].str.replace('D','E')\n",
    "load_love_pd_dataframe[2] = load_love_pd_dataframe[2].str.replace('D','E')\n",
    "load_love_pd_dataframe[3] = load_love_pd_dataframe[3].str.replace('D','E')\n",
    "load_love_data = np.asarray(load_love_pd_dataframe,\n",
    "        dtype = float)\n",
    "h = load_love_data[:,1]\n",
    "k = load_love_data[:,3]"
   ]
  },
  {
   "cell_type": "code",
   "execution_count": 27,
   "metadata": {},
   "outputs": [
    {
     "name": "stderr",
     "output_type": "stream",
     "text": [
      "/usr/local/lib/python3.7/site-packages/ipykernel_launcher.py:3: RuntimeWarning: divide by zero encountered in true_divide\n",
      "  This is separate from the ipykernel package so we can avoid doing imports until\n",
      "/usr/local/lib/python3.7/site-packages/ipykernel_launcher.py:3: RuntimeWarning: invalid value encountered in true_divide\n",
      "  This is separate from the ipykernel package so we can avoid doing imports until\n"
     ]
    }
   ],
   "source": [
    "radius_of_earth = 6378100.0     # in meters m\n",
    "Fv = radius_of_earth*(1.1677 * load_love_data[:,0]  - 0.5233)     # Fv values depends on the degree, first column of load_love_data is degree\n",
    "Fe =  radius_of_earth * h/(1+k) # This has inf and nan\n",
    "Fe[0] = 0   # in CM frame degree 0 and 1 cannot be calculated  \n",
    "Fe[1] = 0"
   ]
  },
  {
   "cell_type": "code",
   "execution_count": 28,
   "metadata": {},
   "outputs": [],
   "source": [
    "def nalf(n,m,x):\n",
    "    # order degree input\n",
    "    return lpmv(m,n,x) * (-1)**m * sqrt( (2-float(m==0)) * (2.0*n + 1) * fact(n-m)/fact(n+m) )"
   ]
  },
  {
   "cell_type": "code",
   "execution_count": 29,
   "metadata": {},
   "outputs": [],
   "source": [
    "data = np.asarray( read_csv( coeff_file_name , header = None , skiprows = 0 , sep = '\\s+' ) ) \n",
    "n = data[:,0].astype(int)\n",
    "m = data[:,1].astype(int)\n",
    "C = data[:,2].astype(float)\n",
    "S = data[:,3].astype(float)"
   ]
  },
  {
   "cell_type": "code",
   "execution_count": 30,
   "metadata": {},
   "outputs": [],
   "source": [
    "elastic = 0.0\n",
    "visco_elastic = 0.0\n",
    "geoid = 0.0\n",
    "for i in range( np.size(n)): \n",
    "    elastic         += nalf( n[i] , m[i] , cos(colat) ) * Fe[n[i]] * ( C[i]*cos(m[i]*lon) + S[i]*sin(m[i]*lon) ) \n",
    "    #visco_elastic   += nalf( n[i] , m[i] , cos(colat) ) * Fv[n[i]] * ( C[i]*cos(m[i]*lon) + S[i]*sin(m[i]*lon) ) \n",
    "    visco_elastic   += nalf( n[i] , m[i] , cos(colat) ) * radius_of_earth*(1.1677*n[i] - 0.5233) * ( C[i]*cos(m[i]*lon) + S[i]*sin(m[i]*lon) ) \n",
    "    #visco_elastic   += nalf( n[i] , m[i] , cos(colat) ) * radius_of_earth*(2.0*n[i] + 1.0) * ( C[i]*cos(m[i]*lon) + S[i]*sin(m[i]*lon) ) \n",
    "    geoid           += nalf( n[i] , m[i] , cos(colat) ) * radius_of_earth * ( C[i]*cos(m[i]*lon) + S[i]*sin(m[i]*lon) ) "
   ]
  },
  {
   "cell_type": "code",
   "execution_count": 55,
   "metadata": {},
   "outputs": [
    {
     "data": {
      "text/plain": [
       "2751.0308540230753"
      ]
     },
     "execution_count": 55,
     "metadata": {},
     "output_type": "execute_result"
    }
   ],
   "source": [
    "nalf(5,5,cos(colat)) * (Fv[5] - Fe[5]) * sin(5*lon)#*1000* 80*10**-12 "
   ]
  },
  {
   "cell_type": "code",
   "execution_count": 47,
   "metadata": {},
   "outputs": [],
   "source": [
    "A = np.asmatrix(np.array([[4,7],[2,6]]))"
   ]
  },
  {
   "cell_type": "code",
   "execution_count": 49,
   "metadata": {},
   "outputs": [],
   "source": [
    "b = np.asmatrix(np.array([[1],[2]]))"
   ]
  },
  {
   "cell_type": "code",
   "execution_count": 52,
   "metadata": {},
   "outputs": [
    {
     "name": "stdout",
     "output_type": "stream",
     "text": [
      "[[4 7]\n",
      " [2 6]] [[1]\n",
      " [2]] [[18]\n",
      " [14]]\n"
     ]
    }
   ],
   "source": [
    "print(A,b,A*b)"
   ]
  },
  {
   "cell_type": "code",
   "execution_count": 54,
   "metadata": {},
   "outputs": [
    {
     "data": {
      "text/plain": [
       "matrix([[1.],\n",
       "        [2.]])"
      ]
     },
     "execution_count": 54,
     "metadata": {},
     "output_type": "execute_result"
    }
   ],
   "source": [
    "A*(A.T * A).I * A.T * b"
   ]
  },
  {
   "cell_type": "code",
   "execution_count": null,
   "metadata": {},
   "outputs": [],
   "source": []
  }
 ],
 "metadata": {
  "kernelspec": {
   "display_name": "Python 3",
   "language": "python",
   "name": "python3"
  },
  "language_info": {
   "codemirror_mode": {
    "name": "ipython",
    "version": 3
   },
   "file_extension": ".py",
   "mimetype": "text/x-python",
   "name": "python",
   "nbconvert_exporter": "python",
   "pygments_lexer": "ipython3",
   "version": "3.7.3"
  }
 },
 "nbformat": 4,
 "nbformat_minor": 2
}
