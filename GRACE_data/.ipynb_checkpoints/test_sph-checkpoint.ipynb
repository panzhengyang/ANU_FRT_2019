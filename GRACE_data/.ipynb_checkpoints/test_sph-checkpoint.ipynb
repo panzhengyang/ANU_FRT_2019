{
 "cells": [
  {
   "cell_type": "code",
   "execution_count": 7,
   "metadata": {},
   "outputs": [],
   "source": [
    "from scipy.special import lpmv\n",
    "from scipy.special import factorial as fact\n",
    "from numpy import sqrt\n",
    "\n",
    "%matplotlib notebook\n",
    "import matplotlib.pyplot as plt\n",
    "import numpy as np\n"
   ]
  },
  {
   "cell_type": "code",
   "execution_count": 8,
   "metadata": {},
   "outputs": [],
   "source": [
    "l = 3     # degree\n",
    "m = 2     # order\n",
    "\n",
    "c = 5.0*10**-11\n",
    "s = 0.0*10**-11\n",
    "lat = 62 \n",
    "lon = 85 \n",
    "\n",
    "co_lat = 90 - lat\n"
   ]
  },
  {
   "cell_type": "code",
   "execution_count": 9,
   "metadata": {},
   "outputs": [],
   "source": [
    "lat_r = lat * np.pi/180.0\n",
    "lon_r = lon * np.pi/180.0\n",
    "co_lat_r = co_lat * np.pi/180.0"
   ]
  },
  {
   "cell_type": "markdown",
   "metadata": {},
   "source": [
    "# refer: \n",
    "http://mitgcm.org/~mlosch/geoidcookbook/node11.html\n",
    "\n",
    "https://igortitara.files.wordpress.com/2010/04/handbook-of-math-for-engineers-and-scientists1.pdf"
   ]
  },
  {
   "cell_type": "code",
   "execution_count": 10,
   "metadata": {},
   "outputs": [],
   "source": [
    "def nalp (m , l , x):\n",
    "#    order,degree,input\n",
    "    return lpmv(m , l , x) * sqrt((2-float(m==0))*(2.0*l+1)*fact(l-m)/fact(l+m))"
   ]
  },
  {
   "cell_type": "code",
   "execution_count": 11,
   "metadata": {},
   "outputs": [],
   "source": [
    "# for l = 3 degree\n",
    "h3 = -0.1050767745e+01\n",
    "k3 = -0.1960294041e+00\n",
    "R = 6378100.0\n",
    "Fn = R*h3/(1+k3)"
   ]
  },
  {
   "cell_type": "code",
   "execution_count": 12,
   "metadata": {},
   "outputs": [],
   "source": [
    "du = Fn*nalp(m,l,np.cos(co_lat_r))*(c*np.cos(m*lon_r)+s*np.sin(m*lon_r))"
   ]
  },
  {
   "cell_type": "code",
   "execution_count": 13,
   "metadata": {},
   "outputs": [
    {
     "name": "stdout",
     "output_type": "stream",
     "text": [
      "0.0004092583205546621\n"
     ]
    }
   ],
   "source": [
    "print(du)"
   ]
  },
  {
   "cell_type": "code",
   "execution_count": 14,
   "metadata": {},
   "outputs": [],
   "source": [
    "from scipy.special import lpmn"
   ]
  },
  {
   "cell_type": "code",
   "execution_count": 17,
   "metadata": {},
   "outputs": [
    {
     "name": "stdout",
     "output_type": "stream",
     "text": [
      "4.218749999999999\n"
     ]
    }
   ],
   "source": [
    "print(lpmv(2,4,0.5))"
   ]
  },
  {
   "cell_type": "code",
   "execution_count": null,
   "metadata": {},
   "outputs": [],
   "source": []
  }
 ],
 "metadata": {
  "kernelspec": {
   "display_name": "Python 3",
   "language": "python",
   "name": "python3"
  },
  "language_info": {
   "codemirror_mode": {
    "name": "ipython",
    "version": 3
   },
   "file_extension": ".py",
   "mimetype": "text/x-python",
   "name": "python",
   "nbconvert_exporter": "python",
   "pygments_lexer": "ipython3",
   "version": "3.7.3"
  }
 },
 "nbformat": 4,
 "nbformat_minor": 2
}
